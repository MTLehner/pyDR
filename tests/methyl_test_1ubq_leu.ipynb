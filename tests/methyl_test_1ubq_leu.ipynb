{
 "cells": [
  {
   "cell_type": "code",
   "execution_count": 1,
   "metadata": {},
   "outputs": [],
   "source": [
    "import cupy as np\n",
    "import pyDR as DR\n",
    "from pyDR.Project import Project\n",
    "import matplotlib.pyplot as plt\n",
    "from scipy.optimize import least_squares"
   ]
  },
  {
   "cell_type": "code",
   "execution_count": 2,
   "metadata": {},
   "outputs": [],
   "source": [
    "tf=4000\n",
    "molsys=DR.MolSys('/mnt/c/Users/thier/Desktop/1ubq_frame.pdb',\n",
    "                 '/home/mlehner/1ubq/test_001/run_001/traj_4us_PBC_fit.xtc',\n",
    "                 tf=tf)\n",
    "select=DR.MolSelect(molsys)"
   ]
  },
  {
   "cell_type": "code",
   "execution_count": 3,
   "metadata": {},
   "outputs": [],
   "source": [
    "ile_resn = [3, 13, 23, 30, 36, 44, 61]"
   ]
  },
  {
   "cell_type": "code",
   "execution_count": 4,
   "metadata": {},
   "outputs": [],
   "source": [
    "frames=list()\n",
    "frames.append({'Type':'methylCC','Nuc':'ivl', 'resids':ile_resn,'sigma':0})\n",
    "frames.append({'Type':'side_chain_chi','Nuc':'ivl', 'resids':ile_resn,'n_bonds':1,'sigma':0})\n",
    "frames.append({'Type':'side_chain_chi','Nuc':'ivl', 'resids':ile_resn,'n_bonds':2,'sigma':0})\n",
    "\n",
    "\"Frames with post-process smoothing\"\n",
    "frames.append({'Type':'hops_3site','Nuc':'ivl', 'resids':ile_resn,'sigma':5})\n",
    "frames.append({'Type':'methylCC','Nuc':'ivl', 'resids':ile_resn,'sigma':5})\n",
    "frames.append({'Type':'chi_hop','Nuc':'ivl', 'resids':ile_resn,'n_bonds':1,'sigma':50})\n",
    "frames.append({'Type':'side_chain_chi','Nuc':'ivl', 'resids':ile_resn,'n_bonds':1,'sigma':50})\n",
    "frames.append({'Type':'chi_hop','Nuc':'ivl', 'resids':ile_resn,'n_bonds':2,'sigma':50})\n",
    "frames.append({'Type':'side_chain_chi','Nuc':'ivl', 'resids':ile_resn,'n_bonds':2,'sigma':50})"
   ]
  },
  {
   "cell_type": "code",
   "execution_count": 5,
   "metadata": {},
   "outputs": [],
   "source": [
    "select.select_bond(Nuc='ivl', resids=ile_resn)"
   ]
  },
  {
   "cell_type": "code",
   "execution_count": 6,
   "metadata": {},
   "outputs": [],
   "source": [
    "fr_obj=DR.Frames.FrameObj(select)"
   ]
  },
  {
   "cell_type": "code",
   "execution_count": 7,
   "metadata": {},
   "outputs": [],
   "source": [
    "fr_obj.tensor_frame(sel1=1,sel2=2)"
   ]
  },
  {
   "cell_type": "code",
   "execution_count": 8,
   "metadata": {},
   "outputs": [],
   "source": [
    "for f in frames:fr_obj.new_frame(**f)"
   ]
  },
  {
   "cell_type": "code",
   "execution_count": 9,
   "metadata": {},
   "outputs": [
    {
     "name": "stdout",
     "output_type": "stream",
     "text": [
      "Loading Ref. Frames: |██████████████████████████████████████████████████| 100.0% Complete\n",
      "Completed\n"
     ]
    }
   ],
   "source": [
    "fr_obj.load_frames(n=-1)"
   ]
  },
  {
   "cell_type": "code",
   "execution_count": 10,
   "metadata": {},
   "outputs": [
    {
     "name": "stdout",
     "output_type": "stream",
     "text": [
      "Applying default post processing (only active for frames that define their own post processing)\n"
     ]
    }
   ],
   "source": [
    "fr_obj.post_process()"
   ]
  },
  {
   "cell_type": "code",
   "execution_count": 11,
   "metadata": {},
   "outputs": [],
   "source": [
    "include=np.zeros([3,9],dtype=bool)\n",
    "include[0][:3]=True  \n",
    "include[1][[4,6,8]]=True\n",
    "include[2][3:]=True"
   ]
  },
  {
   "cell_type": "code",
   "execution_count": 12,
   "metadata": {},
   "outputs": [],
   "source": [
    "t=np.arange(tf>>1)*.005"
   ]
  },
  {
   "cell_type": "code",
   "execution_count": 13,
   "metadata": {},
   "outputs": [],
   "source": [
    "data=fr_obj.frames2data(mode='full')"
   ]
  },
  {
   "cell_type": "code",
   "execution_count": 14,
   "metadata": {},
   "outputs": [
    {
     "name": "stdout",
     "output_type": "stream",
     "text": [
      "Fitted 12 data objects\n",
      "Fitted 12 data objects\n"
     ]
    }
   ],
   "source": [
    "proj=Project('/home/mlehner/pyDR/pyDR/test_project.nosync',create=True)\n",
    "\n",
    "\n",
    "for d in data:proj.append_data(d)\n",
    "proj[0].detect.r_no_opt(10)\n",
    "proj.fit(bounds=False)\n",
    "proj['no_opt'][0].detect.r_auto(5)\n",
    "proj['no_opt'].fit()\n"
   ]
  },
  {
   "cell_type": "code",
   "execution_count": 15,
   "metadata": {},
   "outputs": [],
   "source": [
    "titles=[['Methyl rot.',r'$\\chi_2$ rot.',r'$\\chi_1$ rot.',r'C$\\alpha$-C$\\beta$ motion','Total'],\n",
    "        ['Methyl rot.',r'$\\chi_2$ rot.',r'$\\chi_1$ rot.',r'C$\\alpha$-C$\\beta$ motion','Total'],\n",
    "        ['Methyl lib.','Methyl hop.',r'$\\chi_2$ lib.',r'$\\chi_2$ hop.',\n",
    "          r'$\\chi_1$ lib.',r'$\\chi_1$ hop.',r'C$\\alpha$-C$\\beta$ motion','Total']]\n",
    "fig=plt.figure('Methyl Dynamics')\n",
    "fig.clear()\n",
    "fig.set_size_inches([10.27,  9.03])\n",
    "ax=[]\n",
    "ax.append([fig.add_subplot(5,3,k+1) for k in range(0,15,3)])\n",
    "ax.append([fig.add_subplot(5,3,k+1) for k in range(1,15,3)])\n",
    "ax.append([fig.add_subplot(5,6,k+1) for k in [4,5,10,11,16,17,22]])\n",
    "ax[-1].append(fig.add_subplot(5,3,15))\n",
    "\n",
    "for a0,t0 in zip(ax,titles):\n",
    "    for a, title in zip(a0,t0):\n",
    "        a.set_title(title)\n",
    "\n",
    "for inc,ax0 in zip(include,ax):\n",
    "    out=fr_obj.frames2ct(include=inc,mode='full')\n",
    "    \n",
    "    for ct,a in zip(out['ct_finF'],ax0):\n",
    "        a.cla()\n",
    "        a.plot(t,ct.mean(0)[:tf>>1])\n",
    "        a.set_ylim([0,1.05])\n",
    "        S2=ct.mean(0)[tf>>2:tf>>1].mean()\n",
    "        b=np.argwhere(ct.mean(0)-S2<0)[0,0]\n",
    "        tc0=np.max([.001,((ct.mean(0)[:b]-S2)/(1-S2)).sum()*.005])\n",
    "#        tc0=t[np.argmin(np.abs((ct.mean(0)[:b]-S2)/(1-S2)-np.exp(-1)))]\n",
    "        fun=lambda x:(((x[0]+(1-x[0])*np.exp(-t[:b]/x[1]))-ct.mean(0)[:b])**2).sum()\n",
    "        S2,tc=least_squares(fun,[S2,tc0]).x\n",
    "        a.plot(t,S2+(1-S2)*np.exp(-t/tc),color='grey',linestyle=':')\n",
    "        a.set_xlim([0,np.min([10*tc,fr_obj.t[tf>>1]])])\n",
    "    ax0[-1].semilogx(out['t'][:tf>>1],out['ct'].mean(0)[:tf>>1])\n",
    "    ax0[-1].semilogx(out['t'][:tf>>1],out['ct_prod'].mean(0)[:tf>>1])\n",
    "    ax0[-1].set_ylim([0,.5])\n",
    "    \n",
    "fig.set_size_inches([180/25.4,220/25.4])\n",
    "\n",
    "#plt.savefig(\"/home/mlehner/pyDR/out_figures/methyl_test002_4us.pdf\")\n",
    "\n",
    "plt.show()"
   ]
  },
  {
   "cell_type": "code",
   "execution_count": null,
   "metadata": {},
   "outputs": [],
   "source": [
    "out = fr_obj.frames2ct(include=include[-1], mode='full')"
   ]
  },
  {
   "cell_type": "code",
   "execution_count": null,
   "metadata": {},
   "outputs": [],
   "source": [
    "out[\"ct_prod\"].shape"
   ]
  },
  {
   "cell_type": "code",
   "execution_count": null,
   "metadata": {},
   "outputs": [],
   "source": [
    "fig = plt.figure()\n",
    "ax = fig.gca()\n",
    "plt.semilogx(out['t'][:tf>>1],out['ct'].mean(0)[:tf>>1])\n",
    "plt.semilogx(out['t'][:tf>>1],out['ct_prod'].mean(0)[:tf>>1])\n",
    "ax.set_ylim([0,.5])"
   ]
  },
  {
   "cell_type": "code",
   "execution_count": null,
   "metadata": {},
   "outputs": [],
   "source": [
    "len(ile_resn)"
   ]
  },
  {
   "cell_type": "code",
   "execution_count": null,
   "metadata": {},
   "outputs": [],
   "source": [
    "out[\"ct\"][6:12].shape"
   ]
  },
  {
   "cell_type": "code",
   "execution_count": null,
   "metadata": {},
   "outputs": [],
   "source": [
    "fig = plt.figure()\n",
    "ax = fig.gca()\n",
    "plt.semilogx(out['t'][:tf>>1],out['ct'][:6].mean(0)[:tf>>1])\n",
    "plt.semilogx(out['t'][:tf>>1],out['ct_prod'][:6].mean(0)[:tf>>1])\n",
    "plt.semilogx(out['t'][:tf>>1],out['ct'][6:12].mean(0)[:tf>>1])\n",
    "plt.semilogx(out['t'][:tf>>1],out['ct_prod'][6:12].mean(0)[:tf>>1])\n",
    "ax.set_ylim([0,.5])"
   ]
  },
  {
   "cell_type": "code",
   "execution_count": null,
   "metadata": {},
   "outputs": [],
   "source": [
    "fig = plt.figure()\n",
    "ax = fig.gca()\n",
    "m = int(len(out['ct_prod'])/len(ile_resn))\n",
    "for i in range(m):\n",
    "    plt.semilogx(out['t'][:tf>>1],out['ct_prod'][i*m:(i+1)*m].mean(0)[:tf>>1])\n",
    "ax.set_ylim([0,.7])\n",
    "ax.legend(ile_resn)"
   ]
  },
  {
   "cell_type": "code",
   "execution_count": null,
   "metadata": {},
   "outputs": [],
   "source": []
  }
 ],
 "metadata": {
  "interpreter": {
   "hash": "73f51e723cb625244947aefa9619bbd2d905836cbbdf692d5cc07333ae33e8b6"
  },
  "kernelspec": {
   "display_name": "Python 3.7.3 ('pyDR')",
   "language": "python",
   "name": "python3"
  },
  "language_info": {
   "codemirror_mode": {
    "name": "ipython",
    "version": 3
   },
   "file_extension": ".py",
   "mimetype": "text/x-python",
   "name": "python",
   "nbconvert_exporter": "python",
   "pygments_lexer": "ipython3",
   "version": "3.7.3"
  },
  "orig_nbformat": 4
 },
 "nbformat": 4,
 "nbformat_minor": 2
}
