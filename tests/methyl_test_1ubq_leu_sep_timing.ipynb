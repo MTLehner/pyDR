{
 "cells": [
  {
   "cell_type": "code",
   "execution_count": 1,
   "metadata": {},
   "outputs": [],
   "source": [
    "import cupy as np\n",
    "import pyDR as DR\n",
    "from pyDR.Project import Project\n",
    "import matplotlib.pyplot as plt\n",
    "from scipy.optimize import least_squares"
   ]
  },
  {
   "cell_type": "code",
   "execution_count": 2,
   "metadata": {},
   "outputs": [],
   "source": [
    "test = \"test_004\""
   ]
  },
  {
   "cell_type": "code",
   "execution_count": 3,
   "metadata": {},
   "outputs": [],
   "source": [
    "tf=4000\n",
    "molsys=DR.MolSys('/mnt/c/Users/thier/Desktop/1ubq_frame.pdb',\n",
    "                 '/home/mlehner/1ubq/'+test+'/run_001/traj_4us_PBC_fit.xtc',\n",
    "                 tf=tf)\n",
    "select=DR.MolSelect(molsys)"
   ]
  },
  {
   "cell_type": "code",
   "execution_count": 4,
   "metadata": {},
   "outputs": [],
   "source": [
    "ile_resn = [3, 13, 23, 30, 36, 44, 61]"
   ]
  },
  {
   "cell_type": "code",
   "execution_count": 5,
   "metadata": {},
   "outputs": [],
   "source": [
    "def get_frame_analysis(resnum):\n",
    "    frames=list()\n",
    "    frames.append({'Type':'methylCC','Nuc':'ivl', 'resids':resnum,'sigma':0})\n",
    "    frames.append({'Type':'side_chain_chi','Nuc':'ivl', 'resids':resnum,'n_bonds':1,'sigma':0})\n",
    "    frames.append({'Type':'side_chain_chi','Nuc':'ivl', 'resids':resnum,'n_bonds':2,'sigma':0})\n",
    "\n",
    "    \"Frames with post-process smoothing\"\n",
    "    frames.append({'Type':'hops_3site','Nuc':'ivl', 'resids':resnum,'sigma':5})\n",
    "    frames.append({'Type':'methylCC','Nuc':'ivl', 'resids':resnum,'sigma':5})\n",
    "    frames.append({'Type':'chi_hop','Nuc':'ivl', 'resids':resnum,'n_bonds':1,'sigma':50})\n",
    "    frames.append({'Type':'side_chain_chi','Nuc':'ivl', 'resids':resnum,'n_bonds':1,'sigma':50})\n",
    "    frames.append({'Type':'chi_hop','Nuc':'ivl', 'resids':resnum,'n_bonds':2,'sigma':50})\n",
    "    frames.append({'Type':'side_chain_chi','Nuc':'ivl', 'resids':resnum,'n_bonds':2,'sigma':50})\n",
    "    select.select_bond(Nuc='ivl', resids=resnum)\n",
    "    fr_obj=DR.Frames.FrameObj(select)\n",
    "    fr_obj.tensor_frame(sel1=1,sel2=2)\n",
    "    for f in frames:fr_obj.new_frame(**f)\n",
    "    fr_obj.load_frames(n=-1)\n",
    "    fr_obj.post_process()\n",
    "    include=np.zeros([3,9],dtype=bool)\n",
    "    include[0][:3]=True  \n",
    "    include[1][[4,6,8]]=True\n",
    "    include[2][3:]=True\n",
    "    t=np.arange(tf>>1)*.005\n",
    "    data=fr_obj.frames2data(mode='full')\n",
    "    proj=Project('/home/mlehner/pyDR/pyDR/test_project.nosync',create=True)\n",
    "    for d in data:proj.append_data(d)\n",
    "    proj[0].detect.r_no_opt(10)\n",
    "    proj.fit(bounds=False)\n",
    "    proj['no_opt'][0].detect.r_auto(5)\n",
    "    proj['no_opt'].fit()\n",
    "    return include, fr_obj, t, proj\n",
    "    "
   ]
  },
  {
   "cell_type": "code",
   "execution_count": 6,
   "metadata": {},
   "outputs": [
    {
     "ename": "TypeError",
     "evalue": "Argument 'array' has incorrect type (expected cupy.core.core.ndarray, got numpy.ndarray)",
     "output_type": "error",
     "traceback": [
      "\u001b[0;31m---------------------------------------------------------------------------\u001b[0m",
      "\u001b[0;31mTypeError\u001b[0m                                 Traceback (most recent call last)",
      "\u001b[0;32m/tmp/ipykernel_2085/1244374080.py\u001b[0m in \u001b[0;36m<module>\u001b[0;34m\u001b[0m\n\u001b[1;32m      1\u001b[0m \u001b[0mdata_ile\u001b[0m \u001b[0;34m=\u001b[0m \u001b[0;34m[\u001b[0m\u001b[0;34m]\u001b[0m\u001b[0;34m\u001b[0m\u001b[0;34m\u001b[0m\u001b[0m\n\u001b[1;32m      2\u001b[0m \u001b[0;32mfor\u001b[0m \u001b[0mresnum\u001b[0m \u001b[0;32min\u001b[0m \u001b[0mile_resn\u001b[0m\u001b[0;34m:\u001b[0m\u001b[0;34m\u001b[0m\u001b[0;34m\u001b[0m\u001b[0m\n\u001b[0;32m----> 3\u001b[0;31m     \u001b[0minclude\u001b[0m\u001b[0;34m,\u001b[0m \u001b[0mfr_obj\u001b[0m\u001b[0;34m,\u001b[0m \u001b[0mt\u001b[0m\u001b[0;34m,\u001b[0m \u001b[0mproj\u001b[0m \u001b[0;34m=\u001b[0m \u001b[0mget_frame_analysis\u001b[0m\u001b[0;34m(\u001b[0m\u001b[0mresnum\u001b[0m\u001b[0;34m)\u001b[0m\u001b[0;34m\u001b[0m\u001b[0;34m\u001b[0m\u001b[0m\n\u001b[0m\u001b[1;32m      4\u001b[0m     \u001b[0mdata_ile\u001b[0m\u001b[0;34m.\u001b[0m\u001b[0mappend\u001b[0m\u001b[0;34m(\u001b[0m\u001b[0;34m[\u001b[0m\u001b[0mresnum\u001b[0m\u001b[0;34m,\u001b[0m \u001b[0minclude\u001b[0m\u001b[0;34m,\u001b[0m \u001b[0mfr_obj\u001b[0m\u001b[0;34m,\u001b[0m \u001b[0mt\u001b[0m\u001b[0;34m,\u001b[0m \u001b[0mproj\u001b[0m\u001b[0;34m]\u001b[0m\u001b[0;34m)\u001b[0m\u001b[0;34m\u001b[0m\u001b[0;34m\u001b[0m\u001b[0m\n\u001b[1;32m      5\u001b[0m     \u001b[0mprint\u001b[0m\u001b[0;34m(\u001b[0m\u001b[0;34mf\"Residue {resnum} done\"\u001b[0m\u001b[0;34m)\u001b[0m\u001b[0;34m\u001b[0m\u001b[0;34m\u001b[0m\u001b[0m\n",
      "\u001b[0;32m/tmp/ipykernel_2085/93421363.py\u001b[0m in \u001b[0;36mget_frame_analysis\u001b[0;34m(resnum)\u001b[0m\n\u001b[1;32m     12\u001b[0m     \u001b[0mframes\u001b[0m\u001b[0;34m.\u001b[0m\u001b[0mappend\u001b[0m\u001b[0;34m(\u001b[0m\u001b[0;34m{\u001b[0m\u001b[0;34m'Type'\u001b[0m\u001b[0;34m:\u001b[0m\u001b[0;34m'chi_hop'\u001b[0m\u001b[0;34m,\u001b[0m\u001b[0;34m'Nuc'\u001b[0m\u001b[0;34m:\u001b[0m\u001b[0;34m'ivl'\u001b[0m\u001b[0;34m,\u001b[0m \u001b[0;34m'resids'\u001b[0m\u001b[0;34m:\u001b[0m\u001b[0mresnum\u001b[0m\u001b[0;34m,\u001b[0m\u001b[0;34m'n_bonds'\u001b[0m\u001b[0;34m:\u001b[0m\u001b[0;36m2\u001b[0m\u001b[0;34m,\u001b[0m\u001b[0;34m'sigma'\u001b[0m\u001b[0;34m:\u001b[0m\u001b[0;36m50\u001b[0m\u001b[0;34m}\u001b[0m\u001b[0;34m)\u001b[0m\u001b[0;34m\u001b[0m\u001b[0;34m\u001b[0m\u001b[0m\n\u001b[1;32m     13\u001b[0m     \u001b[0mframes\u001b[0m\u001b[0;34m.\u001b[0m\u001b[0mappend\u001b[0m\u001b[0;34m(\u001b[0m\u001b[0;34m{\u001b[0m\u001b[0;34m'Type'\u001b[0m\u001b[0;34m:\u001b[0m\u001b[0;34m'side_chain_chi'\u001b[0m\u001b[0;34m,\u001b[0m\u001b[0;34m'Nuc'\u001b[0m\u001b[0;34m:\u001b[0m\u001b[0;34m'ivl'\u001b[0m\u001b[0;34m,\u001b[0m \u001b[0;34m'resids'\u001b[0m\u001b[0;34m:\u001b[0m\u001b[0mresnum\u001b[0m\u001b[0;34m,\u001b[0m\u001b[0;34m'n_bonds'\u001b[0m\u001b[0;34m:\u001b[0m\u001b[0;36m2\u001b[0m\u001b[0;34m,\u001b[0m\u001b[0;34m'sigma'\u001b[0m\u001b[0;34m:\u001b[0m\u001b[0;36m50\u001b[0m\u001b[0;34m}\u001b[0m\u001b[0;34m)\u001b[0m\u001b[0;34m\u001b[0m\u001b[0;34m\u001b[0m\u001b[0m\n\u001b[0;32m---> 14\u001b[0;31m     \u001b[0mselect\u001b[0m\u001b[0;34m.\u001b[0m\u001b[0mselect_bond\u001b[0m\u001b[0;34m(\u001b[0m\u001b[0mNuc\u001b[0m\u001b[0;34m=\u001b[0m\u001b[0;34m'ivl'\u001b[0m\u001b[0;34m,\u001b[0m \u001b[0mresids\u001b[0m\u001b[0;34m=\u001b[0m\u001b[0mresnum\u001b[0m\u001b[0;34m)\u001b[0m\u001b[0;34m\u001b[0m\u001b[0;34m\u001b[0m\u001b[0m\n\u001b[0m\u001b[1;32m     15\u001b[0m     \u001b[0mfr_obj\u001b[0m\u001b[0;34m=\u001b[0m\u001b[0mDR\u001b[0m\u001b[0;34m.\u001b[0m\u001b[0mFrames\u001b[0m\u001b[0;34m.\u001b[0m\u001b[0mFrameObj\u001b[0m\u001b[0;34m(\u001b[0m\u001b[0mselect\u001b[0m\u001b[0;34m)\u001b[0m\u001b[0;34m\u001b[0m\u001b[0;34m\u001b[0m\u001b[0m\n\u001b[1;32m     16\u001b[0m     \u001b[0mfr_obj\u001b[0m\u001b[0;34m.\u001b[0m\u001b[0mtensor_frame\u001b[0m\u001b[0;34m(\u001b[0m\u001b[0msel1\u001b[0m\u001b[0;34m=\u001b[0m\u001b[0;36m1\u001b[0m\u001b[0;34m,\u001b[0m\u001b[0msel2\u001b[0m\u001b[0;34m=\u001b[0m\u001b[0;36m2\u001b[0m\u001b[0;34m)\u001b[0m\u001b[0;34m\u001b[0m\u001b[0;34m\u001b[0m\u001b[0m\n",
      "\u001b[0;32m~/pyDR/pyDR/Selection/MolSys.py\u001b[0m in \u001b[0;36mselect_bond\u001b[0;34m(self, Nuc, resids, segids, filter_str, label)\u001b[0m\n\u001b[1;32m    174\u001b[0m                 \u001b[0;34m(\u001b[0m\u001b[0me\u001b[0m\u001b[0;34m.\u001b[0m\u001b[0mg\u001b[0m\u001b[0;34m.\u001b[0m \u001b[0mivlr\u001b[0m\u001b[0;34m,\u001b[0m\u001b[0mivll\u001b[0m\u001b[0;34m:\u001b[0m \u001b[0mOnly\u001b[0m \u001b[0mtake\u001b[0m \u001b[0mthe\u001b[0m \u001b[0mleft\u001b[0m \u001b[0;32mor\u001b[0m \u001b[0mright\u001b[0m \u001b[0mmethyl\u001b[0m \u001b[0mgroup\u001b[0m\u001b[0;34m)\u001b[0m\u001b[0;34m\u001b[0m\u001b[0;34m\u001b[0m\u001b[0m\n\u001b[1;32m    175\u001b[0m         \"\"\"\n\u001b[0;32m--> 176\u001b[0;31m         \u001b[0mself\u001b[0m\u001b[0;34m.\u001b[0m\u001b[0msel1\u001b[0m\u001b[0;34m,\u001b[0m\u001b[0mself\u001b[0m\u001b[0;34m.\u001b[0m\u001b[0msel2\u001b[0m\u001b[0;34m=\u001b[0m\u001b[0mselt\u001b[0m\u001b[0;34m.\u001b[0m\u001b[0mprotein_defaults\u001b[0m\u001b[0;34m(\u001b[0m\u001b[0mNuc\u001b[0m\u001b[0;34m=\u001b[0m\u001b[0mNuc\u001b[0m\u001b[0;34m,\u001b[0m\u001b[0mmol\u001b[0m\u001b[0;34m=\u001b[0m\u001b[0mself\u001b[0m\u001b[0;34m,\u001b[0m\u001b[0mresids\u001b[0m\u001b[0;34m=\u001b[0m\u001b[0mresids\u001b[0m\u001b[0;34m,\u001b[0m\u001b[0msegids\u001b[0m\u001b[0;34m=\u001b[0m\u001b[0msegids\u001b[0m\u001b[0;34m,\u001b[0m\u001b[0mfilter_str\u001b[0m\u001b[0;34m=\u001b[0m\u001b[0mfilter_str\u001b[0m\u001b[0;34m)\u001b[0m\u001b[0;34m\u001b[0m\u001b[0;34m\u001b[0m\u001b[0m\n\u001b[0m\u001b[1;32m    177\u001b[0m \u001b[0;34m\u001b[0m\u001b[0m\n\u001b[1;32m    178\u001b[0m         \u001b[0mrepr_sel\u001b[0m\u001b[0;34m=\u001b[0m\u001b[0mlist\u001b[0m\u001b[0;34m(\u001b[0m\u001b[0;34m)\u001b[0m\u001b[0;34m\u001b[0m\u001b[0;34m\u001b[0m\u001b[0m\n",
      "\u001b[0;32m~/pyDR/pyDR/Selection/select_tools.py\u001b[0m in \u001b[0;36mprotein_defaults\u001b[0;34m(Nuc, mol, resids, segids, filter_str)\u001b[0m\n\u001b[1;32m    191\u001b[0m     \"\"\"\n\u001b[1;32m    192\u001b[0m \u001b[0;34m\u001b[0m\u001b[0m\n\u001b[0;32m--> 193\u001b[0;31m     \u001b[0msel0\u001b[0m\u001b[0;34m=\u001b[0m\u001b[0msel0_filter\u001b[0m\u001b[0;34m(\u001b[0m\u001b[0mmol\u001b[0m\u001b[0;34m,\u001b[0m\u001b[0mresids\u001b[0m\u001b[0;34m,\u001b[0m\u001b[0msegids\u001b[0m\u001b[0;34m,\u001b[0m\u001b[0mfilter_str\u001b[0m\u001b[0;34m)\u001b[0m\u001b[0;34m\u001b[0m\u001b[0;34m\u001b[0m\u001b[0m\n\u001b[0m\u001b[1;32m    194\u001b[0m \u001b[0;34m\u001b[0m\u001b[0m\n\u001b[1;32m    195\u001b[0m     \u001b[0;32mif\u001b[0m \u001b[0mNuc\u001b[0m\u001b[0;34m.\u001b[0m\u001b[0mlower\u001b[0m\u001b[0;34m(\u001b[0m\u001b[0;34m)\u001b[0m\u001b[0;34m==\u001b[0m\u001b[0;34m'15n'\u001b[0m \u001b[0;32mor\u001b[0m \u001b[0mNuc\u001b[0m\u001b[0;34m.\u001b[0m\u001b[0mlower\u001b[0m\u001b[0;34m(\u001b[0m\u001b[0;34m)\u001b[0m\u001b[0;34m==\u001b[0m\u001b[0;34m'n'\u001b[0m \u001b[0;32mor\u001b[0m \u001b[0mNuc\u001b[0m\u001b[0;34m.\u001b[0m\u001b[0mlower\u001b[0m\u001b[0;34m(\u001b[0m\u001b[0;34m)\u001b[0m\u001b[0;34m==\u001b[0m\u001b[0;34m'n15'\u001b[0m\u001b[0;34m:\u001b[0m\u001b[0;34m\u001b[0m\u001b[0;34m\u001b[0m\u001b[0m\n",
      "\u001b[0;32m~/pyDR/pyDR/Selection/select_tools.py\u001b[0m in \u001b[0;36msel0_filter\u001b[0;34m(mol, resids, segids, filter_str)\u001b[0m\n\u001b[1;32m     39\u001b[0m     \u001b[0;32mif\u001b[0m \u001b[0mresids\u001b[0m \u001b[0;32mis\u001b[0m \u001b[0;32mnot\u001b[0m \u001b[0;32mNone\u001b[0m\u001b[0;34m:\u001b[0m\u001b[0;34m\u001b[0m\u001b[0;34m\u001b[0m\u001b[0m\n\u001b[1;32m     40\u001b[0m         \u001b[0mresids\u001b[0m\u001b[0;34m=\u001b[0m\u001b[0mnp\u001b[0m\u001b[0;34m.\u001b[0m\u001b[0matleast_1d\u001b[0m\u001b[0;34m(\u001b[0m\u001b[0mresids\u001b[0m\u001b[0;34m)\u001b[0m\u001b[0;34m\u001b[0m\u001b[0;34m\u001b[0m\u001b[0m\n\u001b[0;32m---> 41\u001b[0;31m         \u001b[0mi\u001b[0m\u001b[0;34m=\u001b[0m\u001b[0mnp\u001b[0m\u001b[0;34m.\u001b[0m\u001b[0misin\u001b[0m\u001b[0;34m(\u001b[0m\u001b[0msel0\u001b[0m\u001b[0;34m.\u001b[0m\u001b[0mresidues\u001b[0m\u001b[0;34m.\u001b[0m\u001b[0mresids\u001b[0m\u001b[0;34m,\u001b[0m\u001b[0mresids\u001b[0m\u001b[0;34m)\u001b[0m\u001b[0;34m\u001b[0m\u001b[0;34m\u001b[0m\u001b[0m\n\u001b[0m\u001b[1;32m     42\u001b[0m         \u001b[0msel_ri\u001b[0m\u001b[0;34m=\u001b[0m\u001b[0msel0\u001b[0m\u001b[0;34m.\u001b[0m\u001b[0mresidues\u001b[0m\u001b[0;34m[\u001b[0m\u001b[0mnp\u001b[0m\u001b[0;34m.\u001b[0m\u001b[0margwhere\u001b[0m\u001b[0;34m(\u001b[0m\u001b[0mi\u001b[0m\u001b[0;34m)\u001b[0m\u001b[0;34m.\u001b[0m\u001b[0msqueeze\u001b[0m\u001b[0;34m(\u001b[0m\u001b[0;34m)\u001b[0m\u001b[0;34m]\u001b[0m\u001b[0;34m.\u001b[0m\u001b[0matoms\u001b[0m\u001b[0;34m\u001b[0m\u001b[0;34m\u001b[0m\u001b[0m\n\u001b[1;32m     43\u001b[0m         \u001b[0msel0\u001b[0m\u001b[0;34m=\u001b[0m\u001b[0msel0\u001b[0m\u001b[0;34m.\u001b[0m\u001b[0mintersection\u001b[0m\u001b[0;34m(\u001b[0m\u001b[0msel_ri\u001b[0m\u001b[0;34m)\u001b[0m\u001b[0;34m\u001b[0m\u001b[0;34m\u001b[0m\u001b[0m\n",
      "\u001b[0;32m~/anaconda3/envs/pyDR/lib/python3.7/site-packages/cupy/_logic/truth.py\u001b[0m in \u001b[0;36misin\u001b[0;34m(element, test_elements, assume_unique, invert)\u001b[0m\n\u001b[1;32m    124\u001b[0m     \"\"\"\n\u001b[1;32m    125\u001b[0m     return in1d(element, test_elements, assume_unique=assume_unique,\n\u001b[0;32m--> 126\u001b[0;31m                 invert=invert).reshape(element.shape)\n\u001b[0m",
      "\u001b[0;32m~/anaconda3/envs/pyDR/lib/python3.7/site-packages/cupy/_logic/truth.py\u001b[0m in \u001b[0;36min1d\u001b[0;34m(ar1, ar2, assume_unique, invert)\u001b[0m\n\u001b[1;32m     93\u001b[0m \u001b[0;34m\u001b[0m\u001b[0m\n\u001b[1;32m     94\u001b[0m     \u001b[0mshape\u001b[0m \u001b[0;34m=\u001b[0m \u001b[0;34m(\u001b[0m\u001b[0mar1\u001b[0m\u001b[0;34m.\u001b[0m\u001b[0msize\u001b[0m\u001b[0;34m,\u001b[0m \u001b[0mar2\u001b[0m\u001b[0;34m.\u001b[0m\u001b[0msize\u001b[0m\u001b[0;34m)\u001b[0m\u001b[0;34m\u001b[0m\u001b[0;34m\u001b[0m\u001b[0m\n\u001b[0;32m---> 95\u001b[0;31m     \u001b[0mar1_broadcast\u001b[0m \u001b[0;34m=\u001b[0m \u001b[0mcupy\u001b[0m\u001b[0;34m.\u001b[0m\u001b[0mbroadcast_to\u001b[0m\u001b[0;34m(\u001b[0m\u001b[0mar1\u001b[0m\u001b[0;34m[\u001b[0m\u001b[0;34m...\u001b[0m\u001b[0;34m,\u001b[0m \u001b[0mcupy\u001b[0m\u001b[0;34m.\u001b[0m\u001b[0mnewaxis\u001b[0m\u001b[0;34m]\u001b[0m\u001b[0;34m,\u001b[0m \u001b[0mshape\u001b[0m\u001b[0;34m)\u001b[0m\u001b[0;34m\u001b[0m\u001b[0;34m\u001b[0m\u001b[0m\n\u001b[0m\u001b[1;32m     96\u001b[0m     \u001b[0mar2_broadcast\u001b[0m \u001b[0;34m=\u001b[0m \u001b[0mcupy\u001b[0m\u001b[0;34m.\u001b[0m\u001b[0mbroadcast_to\u001b[0m\u001b[0;34m(\u001b[0m\u001b[0mar2\u001b[0m\u001b[0;34m,\u001b[0m \u001b[0mshape\u001b[0m\u001b[0;34m)\u001b[0m\u001b[0;34m\u001b[0m\u001b[0;34m\u001b[0m\u001b[0m\n\u001b[1;32m     97\u001b[0m     \u001b[0mcount\u001b[0m \u001b[0;34m=\u001b[0m \u001b[0;34m(\u001b[0m\u001b[0mar1_broadcast\u001b[0m \u001b[0;34m==\u001b[0m \u001b[0mar2_broadcast\u001b[0m\u001b[0;34m)\u001b[0m\u001b[0;34m.\u001b[0m\u001b[0msum\u001b[0m\u001b[0;34m(\u001b[0m\u001b[0maxis\u001b[0m\u001b[0;34m=\u001b[0m\u001b[0;36m1\u001b[0m\u001b[0;34m)\u001b[0m\u001b[0;34m\u001b[0m\u001b[0;34m\u001b[0m\u001b[0m\n",
      "\u001b[0;32m~/anaconda3/envs/pyDR/lib/python3.7/site-packages/cupy/_manipulation/dims.py\u001b[0m in \u001b[0;36mbroadcast_to\u001b[0;34m(array, shape)\u001b[0m\n\u001b[1;32m    127\u001b[0m \u001b[0;34m\u001b[0m\u001b[0m\n\u001b[1;32m    128\u001b[0m     \"\"\"\n\u001b[0;32m--> 129\u001b[0;31m     \u001b[0;32mreturn\u001b[0m \u001b[0mcore\u001b[0m\u001b[0;34m.\u001b[0m\u001b[0mbroadcast_to\u001b[0m\u001b[0;34m(\u001b[0m\u001b[0marray\u001b[0m\u001b[0;34m,\u001b[0m \u001b[0mshape\u001b[0m\u001b[0;34m)\u001b[0m\u001b[0;34m\u001b[0m\u001b[0;34m\u001b[0m\u001b[0m\n\u001b[0m\u001b[1;32m    130\u001b[0m \u001b[0;34m\u001b[0m\u001b[0m\n\u001b[1;32m    131\u001b[0m \u001b[0;34m\u001b[0m\u001b[0m\n",
      "\u001b[0;31mTypeError\u001b[0m: Argument 'array' has incorrect type (expected cupy.core.core.ndarray, got numpy.ndarray)"
     ]
    }
   ],
   "source": [
    "data_ile = []\n",
    "for resnum in ile_resn:\n",
    "    include, fr_obj, t, proj = get_frame_analysis(resnum)\n",
    "    data_ile.append([resnum, include, fr_obj, t, proj])\n",
    "    print(f\"Residue {resnum} done\")"
   ]
  },
  {
   "cell_type": "code",
   "execution_count": null,
   "metadata": {},
   "outputs": [],
   "source": [
    "for resnum, include, fr_obj, t, proj in data_ile:\n",
    "    titles=[['Methyl rot.',r'$\\chi_2$ rot.',r'$\\chi_1$ rot.',r'C$\\alpha$-C$\\beta$ motion','Total'],\n",
    "            ['Methyl rot.',r'$\\chi_2$ rot.',r'$\\chi_1$ rot.',r'C$\\alpha$-C$\\beta$ motion','Total'],\n",
    "            ['Methyl lib.','Methyl hop.',r'$\\chi_2$ lib.',r'$\\chi_2$ hop.',\n",
    "            r'$\\chi_1$ lib.',r'$\\chi_1$ hop.',r'C$\\alpha$-C$\\beta$ motion','Total']]\n",
    "    fig=plt.figure('Methyl Dynamics')\n",
    "    fig.clear()\n",
    "    fig.set_size_inches([10.27,  9.03])\n",
    "    ax=[]\n",
    "    ax.append([fig.add_subplot(5,3,k+1) for k in range(0,15,3)])\n",
    "    ax.append([fig.add_subplot(5,3,k+1) for k in range(1,15,3)])\n",
    "    ax.append([fig.add_subplot(5,6,k+1) for k in [4,5,10,11,16,17,22]])\n",
    "    ax[-1].append(fig.add_subplot(5,3,15))\n",
    "\n",
    "    for a0,t0 in zip(ax,titles):\n",
    "        for a, title in zip(a0,t0):\n",
    "            a.set_title(title)\n",
    "\n",
    "    for inc,ax0 in zip(include,ax):\n",
    "        out=fr_obj.frames2ct(include=inc,mode='full')\n",
    "        \n",
    "        for ct,a in zip(out['ct_finF'],ax0):\n",
    "            try:\n",
    "                a.cla()\n",
    "                a.plot(t,ct.mean(0)[:tf>>1])\n",
    "                a.set_ylim([0,1.05])\n",
    "                S2=ct.mean(0)[tf>>2:tf>>1].mean()\n",
    "                b=np.argwhere(ct.mean(0)-S2<0)[0,0]\n",
    "                tc0=np.max([.001,((ct.mean(0)[:b]-S2)/(1-S2)).sum()*.005])\n",
    "                #tc0=t[np.argmin(np.abs((ct.mean(0)[:b]-S2)/(1-S2)-np.exp(-1)))]\n",
    "                fun=lambda x:(((x[0]+(1-x[0])*np.exp(-t[:b]/x[1]))-ct.mean(0)[:b])**2).sum()\n",
    "                S2,tc=least_squares(fun,[S2,tc0]).x\n",
    "                a.plot(t,S2+(1-S2)*np.exp(-t/tc),color='grey',linestyle=':')\n",
    "                a.set_xlim([0,np.min([10*tc,fr_obj.t[tf>>1]])])\n",
    "            except:\n",
    "                pass\n",
    "        ax0[-1].semilogx(out['t'][:tf>>1],out['ct'].mean(0)[:tf>>1])\n",
    "        ax0[-1].semilogx(out['t'][:tf>>1],out['ct_prod'].mean(0)[:tf>>1])\n",
    "        ax0[-1].set_ylim([0,.5])\n",
    "        \n",
    "    fig.set_size_inches([180/25.4,220/25.4])\n",
    "\n",
    "    plt.savefig(\"/home/mlehner/pyDR/out_figures/ile/\"+test+\"/frame_ile_\"+str(resnum)+\".pdf\")\n",
    "\n",
    "    plt.show()"
   ]
  },
  {
   "cell_type": "code",
   "execution_count": null,
   "metadata": {},
   "outputs": [],
   "source": [
    "fig = plt.figure()\n",
    "ax = fig.gca()\n",
    "for resnum, include, fr_obj, t, proj in data_ile:\n",
    "    out = fr_obj.frames2ct(include=include[-1], mode='full')\n",
    "    print(resnum, out[\"ct_prod\"].shape)\n",
    "    print(out[\"ct_finF\"].shape)\n",
    "    #plt.semilogx(out['t'][:tf>>1],out['ct'].mean(0)[:tf>>1])\n",
    "    plt.semilogx(out['t'][:tf>>1],out['ct_prod'].mean(0)[:tf>>1])\n",
    "    ax.set_ylim([0,.5])\n",
    "plt.legend(ile_resn)\n",
    "plt.savefig(\"/home/mlehner/pyDR/out_figures/ile/\"+test+\"/overview.pdf\")"
   ]
  },
  {
   "cell_type": "code",
   "execution_count": null,
   "metadata": {},
   "outputs": [],
   "source": []
  }
 ],
 "metadata": {
  "interpreter": {
   "hash": "73f51e723cb625244947aefa9619bbd2d905836cbbdf692d5cc07333ae33e8b6"
  },
  "kernelspec": {
   "display_name": "Python 3.7.3 ('pyDR')",
   "language": "python",
   "name": "python3"
  },
  "language_info": {
   "codemirror_mode": {
    "name": "ipython",
    "version": 3
   },
   "file_extension": ".py",
   "mimetype": "text/x-python",
   "name": "python",
   "nbconvert_exporter": "python",
   "pygments_lexer": "ipython3",
   "version": "3.7.3"
  },
  "orig_nbformat": 4
 },
 "nbformat": 4,
 "nbformat_minor": 2
}
