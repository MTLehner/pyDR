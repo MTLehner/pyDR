{
 "cells": [
  {
   "cell_type": "code",
   "execution_count": 1,
   "metadata": {},
   "outputs": [],
   "source": [
    "import numpy as np\n",
    "import pyDR as DR\n",
    "from pyDR.Project import Project\n",
    "import matplotlib.pyplot as plt\n",
    "from scipy.optimize import least_squares\n",
    "import pickle"
   ]
  },
  {
   "cell_type": "code",
   "execution_count": 2,
   "metadata": {},
   "outputs": [],
   "source": [
    "ile_resn = [3, 13, 23, 30, 36, 44, 61]\n",
    "test_list = [\"test_001\", \"test_002\", \"test_003\", \"test_004\", \"test_005\", \"test_006\", \"test_007\",\"test_008\", \"test_009\", \"test_010\", \"test_011\"]"
   ]
  },
  {
   "cell_type": "code",
   "execution_count": 3,
   "metadata": {},
   "outputs": [],
   "source": [
    "def get_frame_analysis(test):\n",
    "    tf=None\n",
    "    #tf=1000\n",
    "    molsys=DR.MolSys('./1ubq_data/1ubq_frame.pdb', './1ubq_data/'+test+'/run_001/traj_4us_PBC_fit.xtc',tf=tf)\n",
    "    select=DR.MolSelect(molsys)\n",
    "\n",
    "    frames=list()\n",
    "    frames.append({'Type':'methylCC','Nuc':'ivl', 'resids':ile_resn,'sigma':0})\n",
    "    frames.append({'Type':'side_chain_chi','Nuc':'ivl', 'resids':ile_resn,'n_bonds':1,'sigma':0})\n",
    "    frames.append({'Type':'side_chain_chi','Nuc':'ivl', 'resids':ile_resn,'n_bonds':2,'sigma':0})\n",
    "\n",
    "    \"Frames with post-process smoothing\"\n",
    "    frames.append({'Type':'hops_3site','Nuc':'ivl', 'resids':ile_resn,'sigma':5})\n",
    "    frames.append({'Type':'methylCC','Nuc':'ivl', 'resids':ile_resn,'sigma':5})\n",
    "    frames.append({'Type':'chi_hop','Nuc':'ivl', 'resids':ile_resn,'n_bonds':1,'sigma':50})\n",
    "    frames.append({'Type':'side_chain_chi','Nuc':'ivl', 'resids':ile_resn,'n_bonds':1,'sigma':50})\n",
    "    frames.append({'Type':'chi_hop','Nuc':'ivl', 'resids':ile_resn,'n_bonds':2,'sigma':50})\n",
    "    frames.append({'Type':'side_chain_chi','Nuc':'ivl', 'resids':ile_resn,'n_bonds':2,'sigma':50})\n",
    "\n",
    "    select.select_bond(Nuc='ivl', resids=ile_resn)\n",
    "    fr_obj=DR.Frames.FrameObj(select)\n",
    "    fr_obj.tensor_frame(sel1=1,sel2=2)\n",
    "    for f in frames:fr_obj.new_frame(**f)\n",
    "    fr_obj.load_frames(n=-1)\n",
    "    fr_obj.post_process()\n",
    "\n",
    "    tf = molsys._traj.tf\n",
    "    print(f\"tf: {tf}\")\n",
    "\n",
    "    include=np.zeros([3,9],dtype=bool)\n",
    "    include[0][:3]=True  \n",
    "    include[1][[4,6,8]]=True\n",
    "    include[2][3:]=True\n",
    "    t=np.arange(tf>>1)*.005\n",
    "    data=fr_obj.frames2data(mode='full')\n",
    "    proj=Project('./out_figures/'+test+'.nosync',create=True)\n",
    "    for d in data:proj.append_data(d)\n",
    "    proj[0].detect.r_no_opt(10)\n",
    "    proj.fit(bounds=False)\n",
    "    proj['no_opt'][0].detect.r_auto(5)\n",
    "    proj['no_opt'].fit()\n",
    "    return [fr_obj.frames2ct(include=x, mode='full') for x in include]\n",
    "    "
   ]
  },
  {
   "cell_type": "code",
   "execution_count": 4,
   "metadata": {},
   "outputs": [
    {
     "name": "stdout",
     "output_type": "stream",
     "text": [
      "'Trajectory' object has no attribute '__tf'\n",
      "'Trajectory' object has no attribute '__tf'\n",
      "'Trajectory' object has no attribute '__tf'\n",
      "'Trajectory' object has no attribute '__tf'\n",
      "File does not exist: b'/home/mlehner/pyDR/tests/1ubq_data/test_005/run_001/traj_4us_PBC_fit.xtc'\n"
     ]
    },
    {
     "name": "stderr",
     "output_type": "stream",
     "text": [
      "Exception ignored in: <function ReaderBase.__del__ at 0x7fab7b7c7f80>\n",
      "Traceback (most recent call last):\n",
      "  File \"/home/mlehner/.conda/envs/pyDR/lib/python3.7/site-packages/MDAnalysis/coordinates/base.py\", line 2180, in __del__\n",
      "    self.close()\n",
      "  File \"/home/mlehner/.conda/envs/pyDR/lib/python3.7/site-packages/MDAnalysis/coordinates/XDR.py\", line 178, in close\n",
      "    self._xdr.close()\n",
      "AttributeError: 'XTCReader' object has no attribute '_xdr'\n"
     ]
    },
    {
     "name": "stdout",
     "output_type": "stream",
     "text": [
      "The topology and XTC trajectory files don't have the same number of atoms!\n",
      "Topology number of atoms 1231\n",
      "Trajectory: /home/mlehner/pyDR/tests/1ubq_data/test_006/run_001/traj_4us_PBC_fit.xtc Number of atoms 1155\n",
      "'Trajectory' object has no attribute '__tf'\n",
      "'Trajectory' object has no attribute '__tf'\n",
      "'Trajectory' object has no attribute '__tf'\n",
      "'Trajectory' object has no attribute '__tf'\n",
      "'Trajectory' object has no attribute '__tf'\n"
     ]
    }
   ],
   "source": [
    "for test in test_list:\n",
    "    try:\n",
    "        out = get_frame_analysis(test)\n",
    "        pickle.dump(out, open(\"./out_figures/ile/\"+test+\"/out4.p\", 'wb'))\n",
    "    except Exception as e:\n",
    "        print(e)\n",
    "        pass"
   ]
  },
  {
   "cell_type": "code",
   "execution_count": 5,
   "metadata": {},
   "outputs": [
    {
     "ename": "FileNotFoundError",
     "evalue": "[Errno 2] No such file or directory: './out_figures/ile/test_011/out4.p'",
     "output_type": "error",
     "traceback": [
      "\u001b[0;31m---------------------------------------------------------------------------\u001b[0m",
      "\u001b[0;31mFileNotFoundError\u001b[0m                         Traceback (most recent call last)",
      "\u001b[0;32m/tmp/ipykernel_2033070/2850032906.py\u001b[0m in \u001b[0;36m<module>\u001b[0;34m\u001b[0m\n\u001b[0;32m----> 1\u001b[0;31m \u001b[0mout1\u001b[0m\u001b[0;34m=\u001b[0m\u001b[0mpickle\u001b[0m\u001b[0;34m.\u001b[0m\u001b[0mload\u001b[0m\u001b[0;34m(\u001b[0m\u001b[0mopen\u001b[0m\u001b[0;34m(\u001b[0m\u001b[0;34m\"./out_figures/ile/\"\u001b[0m\u001b[0;34m+\u001b[0m\u001b[0mtest_list\u001b[0m\u001b[0;34m[\u001b[0m\u001b[0;34m-\u001b[0m\u001b[0;36m1\u001b[0m\u001b[0;34m]\u001b[0m\u001b[0;34m+\u001b[0m\u001b[0;34m\"/out4.p\"\u001b[0m\u001b[0;34m,\u001b[0m \u001b[0;34m'rb'\u001b[0m\u001b[0;34m)\u001b[0m\u001b[0;34m)\u001b[0m\u001b[0;34m\u001b[0m\u001b[0;34m\u001b[0m\u001b[0m\n\u001b[0m",
      "\u001b[0;31mFileNotFoundError\u001b[0m: [Errno 2] No such file or directory: './out_figures/ile/test_011/out4.p'"
     ]
    }
   ],
   "source": [
    "out1=pickle.load(open(\"./out_figures/ile/\"+test_list[-1]+\"/out4.p\", 'rb'))"
   ]
  },
  {
   "cell_type": "code",
   "execution_count": null,
   "metadata": {},
   "outputs": [
    {
     "data": {
      "text/plain": [
       "(42, 200000)"
      ]
     },
     "execution_count": 8,
     "metadata": {},
     "output_type": "execute_result"
    }
   ],
   "source": [
    "out1[0][\"ct_prod\"].shape"
   ]
  },
  {
   "cell_type": "code",
   "execution_count": null,
   "metadata": {},
   "outputs": [],
   "source": []
  }
 ],
 "metadata": {
  "kernelspec": {
   "display_name": "Python 3.7.12 ('pyDR')",
   "language": "python",
   "name": "python3"
  },
  "language_info": {
   "codemirror_mode": {
    "name": "ipython",
    "version": 3
   },
   "file_extension": ".py",
   "mimetype": "text/x-python",
   "name": "python",
   "nbconvert_exporter": "python",
   "pygments_lexer": "ipython3",
   "version": "3.7.12"
  },
  "orig_nbformat": 4,
  "vscode": {
   "interpreter": {
    "hash": "8d634ef06161820f30c50fe6b827a1b9626447960719c62f89f2b124de647201"
   }
  }
 },
 "nbformat": 4,
 "nbformat_minor": 2
}
