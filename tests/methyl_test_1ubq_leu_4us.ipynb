{
 "cells": [
  {
   "cell_type": "code",
   "execution_count": 1,
   "metadata": {},
   "outputs": [],
   "source": [
    "import numpy as np\n",
    "import pyDR as DR\n",
    "from pyDR.Project import Project\n",
    "import matplotlib.pyplot as plt\n",
    "from scipy.optimize import least_squares\n",
    "import pickle"
   ]
  },
  {
   "cell_type": "code",
   "execution_count": 2,
   "metadata": {},
   "outputs": [],
   "source": [
    "ile_resn = [3, 13, 23, 30, 36, 44, 61]\n",
    "test_list = [\"test_001\", \"test_002\", \"test_003\", \"test_004\"]"
   ]
  },
  {
   "cell_type": "code",
   "execution_count": 3,
   "metadata": {},
   "outputs": [],
   "source": [
    "def get_frame_analysis(test):\n",
    "    tf=200000\n",
    "    molsys=DR.MolSys('/mnt/c/Users/thier/Desktop/1ubq_frame.pdb', '/home/mlehner/1ubq/'+test+'/run_001/traj_4us_PBC_fit.xtc',tf=tf)\n",
    "    select=DR.MolSelect(molsys)\n",
    "    frames=list()\n",
    "    frames.append({'Type':'methylCC','Nuc':'ivl', 'resids':ile_resn,'sigma':0})\n",
    "    frames.append({'Type':'side_chain_chi','Nuc':'ivl', 'resids':ile_resn,'n_bonds':1,'sigma':0})\n",
    "    frames.append({'Type':'side_chain_chi','Nuc':'ivl', 'resids':ile_resn,'n_bonds':2,'sigma':0})\n",
    "\n",
    "    \"Frames with post-process smoothing\"\n",
    "    frames.append({'Type':'hops_3site','Nuc':'ivl', 'resids':ile_resn,'sigma':5})\n",
    "    frames.append({'Type':'methylCC','Nuc':'ivl', 'resids':ile_resn,'sigma':5})\n",
    "    frames.append({'Type':'chi_hop','Nuc':'ivl', 'resids':ile_resn,'n_bonds':1,'sigma':50})\n",
    "    frames.append({'Type':'side_chain_chi','Nuc':'ivl', 'resids':ile_resn,'n_bonds':1,'sigma':50})\n",
    "    frames.append({'Type':'chi_hop','Nuc':'ivl', 'resids':ile_resn,'n_bonds':2,'sigma':50})\n",
    "    frames.append({'Type':'side_chain_chi','Nuc':'ivl', 'resids':ile_resn,'n_bonds':2,'sigma':50})\n",
    "    select.select_bond(Nuc='ivl', resids=ile_resn)\n",
    "    fr_obj=DR.Frames.FrameObj(select)\n",
    "    fr_obj.tensor_frame(sel1=1,sel2=2)\n",
    "    for f in frames:fr_obj.new_frame(**f)\n",
    "    fr_obj.load_frames(n=-1)\n",
    "    fr_obj.post_process()\n",
    "    include=np.zeros([3,9],dtype=bool)\n",
    "    include[0][:3]=True  \n",
    "    include[1][[4,6,8]]=True\n",
    "    include[2][3:]=True\n",
    "    t=np.arange(tf>>1)*.005\n",
    "    data=fr_obj.frames2data(mode='full')\n",
    "    proj=Project('/home/mlehner/pyDR/pyDR/test_project'+test+'.nosync',create=True)\n",
    "    for d in data:proj.append_data(d)\n",
    "    proj[0].detect.r_no_opt(10)\n",
    "    proj.fit(bounds=False)\n",
    "    proj['no_opt'][0].detect.r_auto(5)\n",
    "    proj['no_opt'].fit()\n",
    "    return fr_obj.frames2ct(include=include[-1], mode='full')\n",
    "    "
   ]
  },
  {
   "cell_type": "code",
   "execution_count": 4,
   "metadata": {},
   "outputs": [
    {
     "name": "stdout",
     "output_type": "stream",
     "text": [
      "Loading Ref. Frames: |██████████████████████████████████████████████████| 100.0% Complete\n",
      "Completed\n",
      "Applying default post processing (only active for frames that define their own post processing)\n",
      "Fitted 12 data objects\n",
      "Fitted 12 data objects\n",
      "Loading Ref. Frames: |██████████████████████████████████████████████████| 100.0% Complete\n",
      "Completed\n",
      "Applying default post processing (only active for frames that define their own post processing)\n",
      "Fitted 12 data objects\n",
      "Fitted 12 data objects\n",
      "Loading Ref. Frames: |██████████████████████████████████████████████████| 100.0% Complete\n",
      "Completed\n",
      "Applying default post processing (only active for frames that define their own post processing)\n",
      "Fitted 12 data objects\n",
      "Fitted 12 data objects\n",
      "Loading Ref. Frames: |██████████████████████████████████████████████████| 100.0% Complete\n",
      "Completed\n",
      "Applying default post processing (only active for frames that define their own post processing)\n",
      "Fitted 12 data objects\n",
      "Fitted 12 data objects\n"
     ]
    }
   ],
   "source": [
    "for test in test_list:\n",
    "    out = get_frame_analysis(test)\n",
    "    pickle.dump(out, open(\"/home/mlehner/pyDR/out_figures/ile/\"+test+\"/out2.p\", 'wb'))"
   ]
  },
  {
   "cell_type": "code",
   "execution_count": 7,
   "metadata": {},
   "outputs": [],
   "source": [
    "out1=pickle.load(open(\"/home/mlehner/pyDR/out_figures/ile/test_001/out2.p\", 'rb'))"
   ]
  },
  {
   "cell_type": "code",
   "execution_count": 8,
   "metadata": {},
   "outputs": [
    {
     "data": {
      "text/plain": [
       "(42, 200000)"
      ]
     },
     "execution_count": 8,
     "metadata": {},
     "output_type": "execute_result"
    }
   ],
   "source": [
    "out1[\"ct_prod\"].shape"
   ]
  },
  {
   "cell_type": "code",
   "execution_count": null,
   "metadata": {},
   "outputs": [],
   "source": []
  }
 ],
 "metadata": {
  "interpreter": {
   "hash": "73f51e723cb625244947aefa9619bbd2d905836cbbdf692d5cc07333ae33e8b6"
  },
  "kernelspec": {
   "display_name": "Python 3.7.3 ('pyDR')",
   "language": "python",
   "name": "python3"
  },
  "language_info": {
   "codemirror_mode": {
    "name": "ipython",
    "version": 3
   },
   "file_extension": ".py",
   "mimetype": "text/x-python",
   "name": "python",
   "nbconvert_exporter": "python",
   "pygments_lexer": "ipython3",
   "version": "3.7.3"
  },
  "orig_nbformat": 4
 },
 "nbformat": 4,
 "nbformat_minor": 2
}
