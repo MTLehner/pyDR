{
 "cells": [
  {
   "cell_type": "code",
   "execution_count": 1,
   "metadata": {},
   "outputs": [],
   "source": [
    "import numpy as np\n",
    "import pyDR as DR\n",
    "from pyDR.Project import Project\n",
    "import matplotlib.pyplot as plt\n",
    "from scipy.optimize import least_squares\n",
    "import pickle"
   ]
  },
  {
   "cell_type": "code",
   "execution_count": 4,
   "metadata": {},
   "outputs": [],
   "source": [
    "ile_resn = [3, 13, 23, 30, 36, 44, 61]\n",
    "test_list = [\"test_001\", \"test_002\", \"test_003\", \"test_004\", \"test_008\", \"test_010\", \"test_011\"]"
   ]
  },
  {
   "cell_type": "code",
   "execution_count": 5,
   "metadata": {},
   "outputs": [],
   "source": [
    "data = []\n",
    "for test in test_list:\n",
    "    out=pickle.load(open(\"./out_figures/ile/\"+test+\"/out2.p\", 'rb'))\n",
    "    data.append(out)"
   ]
  },
  {
   "cell_type": "code",
   "execution_count": 7,
   "metadata": {},
   "outputs": [
    {
     "data": {
      "text/plain": [
       "(42, 200000)"
      ]
     },
     "execution_count": 7,
     "metadata": {},
     "output_type": "execute_result"
    }
   ],
   "source": [
    "data[0][-1][\"ct_prod\"].shape"
   ]
  },
  {
   "cell_type": "code",
   "execution_count": null,
   "metadata": {},
   "outputs": [],
   "source": [
    "out[\"ct_finF\"].shape"
   ]
  },
  {
   "cell_type": "code",
   "execution_count": null,
   "metadata": {},
   "outputs": [],
   "source": [
    "include=np.zeros([3,9],dtype=bool)\n",
    "include[0][:3]=True  \n",
    "include[1][[4,6,8]]=True\n",
    "include[2][3:]=True\n",
    "tf=200000\n",
    "t=np.arange(tf>>1)*.005"
   ]
  },
  {
   "cell_type": "code",
   "execution_count": null,
   "metadata": {},
   "outputs": [],
   "source": [
    "def creat_split_plots(out):    \n",
    "    titles=[['Methyl rot.',r'$\\chi_2$ rot.',r'$\\chi_1$ rot.',r'C$\\alpha$-C$\\beta$ motion','Total'],\n",
    "                ['Methyl rot.',r'$\\chi_2$ rot.',r'$\\chi_1$ rot.',r'C$\\alpha$-C$\\beta$ motion','Total'],\n",
    "                ['Methyl lib.','Methyl hop.',r'$\\chi_2$ lib.',r'$\\chi_2$ hop.',\n",
    "                r'$\\chi_1$ lib.',r'$\\chi_1$ hop.',r'C$\\alpha$-C$\\beta$ motion','Total']]\n",
    "    fig=plt.figure('Methyl Dynamics')\n",
    "    fig.clear()\n",
    "    fig.set_size_inches([10.27,  9.03])\n",
    "    ax=[]\n",
    "    ax.append([fig.add_subplot(5,3,k+1) for k in range(0,15,3)])\n",
    "    ax.append([fig.add_subplot(5,3,k+1) for k in range(1,15,3)])\n",
    "    ax.append([fig.add_subplot(5,6,k+1) for k in [4,5,10,11,16,17,22]])\n",
    "    ax[-1].append(fig.add_subplot(5,3,15))\n",
    "\n",
    "    for a0,t0 in zip(ax,titles):\n",
    "        for a, title in zip(a0,t0):\n",
    "            a.set_title(title)\n",
    "\n",
    "    i = 0\n",
    "    j = 0\n",
    "    for inc,ax0 in zip(include,ax):\n",
    "        i += 1        \n",
    "        for ct,a in zip(out['ct_finF'],ax0):\n",
    "            j += 1\n",
    "            try:\n",
    "                a.cla()\n",
    "                a.plot(t,ct.mean(0)[:tf>>1])\n",
    "                a.set_ylim([0,1.05])\n",
    "                S2=ct.mean(0)[tf>>2:tf>>1].mean()\n",
    "                b=np.argwhere(ct.mean(0)-S2<0)[0,0]\n",
    "                #tc0=np.max([.001,((ct.mean(0)[:b]-S2)/(1-S2)).sum()*.005])\n",
    "                tc0=t[np.argmin(np.abs((ct.mean(0)[:b]-S2)/(1-S2)-np.exp(-1)))]\n",
    "                fun=lambda x:(((x[0]+(1-x[0])*np.exp(-t[:b]/x[1]))-ct.mean(0)[:b])**2).sum()\n",
    "                S2,tc=least_squares(fun,[S2,tc0]).x\n",
    "                a.plot(t,S2+(1-S2)*np.exp(-t/tc),color='grey',linestyle=':')\n",
    "                a.set_xlim([0,50*tc])\n",
    "                #a.set_xlim([0,np.min([10*tc, out['t'][:tf>>1]])])\n",
    "                a.set_title(f\"{i}-{j}\")\n",
    "            except:\n",
    "                pass\n",
    "        ax0[-1].semilogx(out['t'][:tf>>1],out['ct'].mean(0)[:tf>>1])\n",
    "        ax0[-1].semilogx(out['t'][:tf>>1],out['ct_prod'].mean(0)[:tf>>1])\n",
    "        ax0[-1].set_ylim([0,.5])\n",
    "        \n",
    "    fig.set_size_inches([180/25.4,220/25.4])\n",
    "\n",
    "    #plt.savefig(\"/home/mlehner/pyDR/out_figures/ile/\"+test+\"/frame_ile_\"+str(resnum)+\".pdf\")\n",
    "\n",
    "    plt.show()"
   ]
  },
  {
   "cell_type": "code",
   "execution_count": null,
   "metadata": {},
   "outputs": [],
   "source": [
    "creat_split_plots(data[0])"
   ]
  },
  {
   "cell_type": "code",
   "execution_count": null,
   "metadata": {},
   "outputs": [],
   "source": [
    "for out in data:\n",
    "        plt.semilogx(out['t'][:tf>>1],out['ct'].mean(0)[:tf>>1])\n",
    "for out in data:\n",
    "        plt.semilogx(out['t'][:tf>>1],out['ct_prod'].mean(0)[:tf>>1],color='grey',linestyle=':')\n",
    "legend_list = test_list + [\"fit\"]\n",
    "plt.xlabel(\"Time [ns]\")\n",
    "plt.ylabel(\"Correlation function C(T) [a.u.]\")\n",
    "#plt.title(\"Total Correlation Function\")\n",
    "plt.legend(legend_list)\n",
    "plt.savefig(\"/home/mlehner/pyDR/out_figures/report/plot00.png\")"
   ]
  },
  {
   "cell_type": "code",
   "execution_count": null,
   "metadata": {},
   "outputs": [],
   "source": [
    "include[0]"
   ]
  },
  {
   "cell_type": "code",
   "execution_count": null,
   "metadata": {},
   "outputs": [],
   "source": [
    "for out in data:    \n",
    "    ct = out['ct_finF'][0]\n",
    "    plt.plot(t,ct.mean(0)[:tf>>1])\n",
    "plt.legend(test_list)\n",
    "for out in data:\n",
    "    ct = out['ct_finF'][0]\n",
    "    S2=ct.mean(0)[tf>>2:tf>>1].mean()\n",
    "    b=np.argwhere(ct.mean(0)-S2<0)[0,0]\n",
    "    #tc0=np.max([.001,((ct.mean(0)[:b]-S2)/(1-S2)).sum()*.005])\n",
    "    tc0=t[np.argmin(np.abs((ct.mean(0)[:b]-S2)/(1-S2)-np.exp(-1)))]\n",
    "    fun=lambda x:(((x[0]+(1-x[0])*np.exp(-t[:b]/x[1]))-ct.mean(0)[:b])**2).sum()\n",
    "    S2,tc=least_squares(fun,[S2,tc0]).x\n",
    "    plt.plot(t,S2+(1-S2)*np.exp(-t/tc),color='grey',linestyle=':')\n",
    "plt.xlim([0,50*tc])\n",
    "plt.ylim([0,1])\n",
    "legend_list = test_list + [\"fit\"]\n",
    "plt.xlabel(\"Time [ns]\")\n",
    "plt.ylabel(\"Correlation function C(T) [a.u.]\")\n",
    "#plt.title(\"Correlation function of methyl rotations\")\n",
    "plt.legend(legend_list)\n",
    "plt.savefig(\"/home/mlehner/pyDR/out_figures/report/plot01.png\")"
   ]
  },
  {
   "cell_type": "code",
   "execution_count": null,
   "metadata": {},
   "outputs": [],
   "source": [
    "for out in data:    \n",
    "    ct = out['ct_finF'][1]\n",
    "    plt.plot(t,ct.mean(0)[:tf>>1])\n",
    "plt.legend(test_list)\n",
    "for out in data:\n",
    "    ct = out['ct_finF'][1]\n",
    "    S2=ct.mean(0)[tf>>2:tf>>1].mean()\n",
    "    b=np.argwhere(ct.mean(0)-S2<0)[0,0]\n",
    "    #tc0=np.max([.001,((ct.mean(0)[:b]-S2)/(1-S2)).sum()*.005])\n",
    "    tc0=t[np.argmin(np.abs((ct.mean(0)[:b]-S2)/(1-S2)-np.exp(-1)))]\n",
    "    fun=lambda x:(((x[0]+(1-x[0])*np.exp(-t[:b]/x[1]))-ct.mean(0)[:b])**2).sum()\n",
    "    S2,tc=least_squares(fun,[S2,tc0]).x\n",
    "    plt.plot(t,S2+(1-S2)*np.exp(-t/tc),color='grey',linestyle=':')\n",
    "plt.xlim([0,50*tc])\n",
    "plt.ylim([0,1])\n",
    "legend_list = test_list + [\"fit\"]\n",
    "plt.xlabel(\"Time [ns]\")\n",
    "plt.ylabel(\"Correlation function C(T) [a.u.]\")\n",
    "#plt.title(\"Correlation function of chi2\")\n",
    "plt.legend(legend_list)\n",
    "plt.savefig(\"/home/mlehner/pyDR/out_figures/report/plot02.png\")"
   ]
  },
  {
   "cell_type": "code",
   "execution_count": null,
   "metadata": {},
   "outputs": [],
   "source": [
    "for out in data:    \n",
    "    ct = out['ct_finF'][2]\n",
    "    plt.plot(t,ct.mean(0)[:tf>>1])\n",
    "plt.legend(test_list)\n",
    "for out in data:\n",
    "    ct = out['ct_finF'][2]\n",
    "    S2=ct.mean(0)[tf>>2:tf>>1].mean()\n",
    "    b=np.argwhere(ct.mean(0)-S2<0)[0,0]\n",
    "    #tc0=np.max([.001,((ct.mean(0)[:b]-S2)/(1-S2)).sum()*.005])\n",
    "    tc0=t[np.argmin(np.abs((ct.mean(0)[:b]-S2)/(1-S2)-np.exp(-1)))]\n",
    "    fun=lambda x:(((x[0]+(1-x[0])*np.exp(-t[:b]/x[1]))-ct.mean(0)[:b])**2).sum()\n",
    "    S2,tc=least_squares(fun,[S2,tc0]).x\n",
    "    plt.plot(t,S2+(1-S2)*np.exp(-t/tc),color='grey',linestyle=':')\n",
    "plt.xlim([0,0.1])\n",
    "plt.ylim([0,1])\n",
    "legend_list = test_list + [\"fit\"]\n",
    "plt.xlabel(\"Time [ns]\")\n",
    "plt.ylabel(\"Correlation function C(T) [a.u.]\")\n",
    "#plt.title(\"Correlation function of chi1\")\n",
    "plt.legend(legend_list)\n",
    "plt.savefig(\"/home/mlehner/pyDR/out_figures/report/plot03.png\")"
   ]
  },
  {
   "cell_type": "code",
   "execution_count": null,
   "metadata": {},
   "outputs": [],
   "source": [
    "for out in data:    \n",
    "    ct = out['ct_finF'][3]\n",
    "    plt.plot(t,ct.mean(0)[:tf>>1])\n",
    "plt.legend(test_list)\n",
    "for out in data:\n",
    "    ct = out['ct_finF'][3]\n",
    "    S2=ct.mean(0)[tf>>2:tf>>1].mean()\n",
    "    b=np.argwhere(ct.mean(0)-S2<0)[0,0]\n",
    "    #tc0=np.max([.001,((ct.mean(0)[:b]-S2)/(1-S2)).sum()*.005])\n",
    "    tc0=t[np.argmin(np.abs((ct.mean(0)[:b]-S2)/(1-S2)-np.exp(-1)))]\n",
    "    fun=lambda x:(((x[0]+(1-x[0])*np.exp(-t[:b]/x[1]))-ct.mean(0)[:b])**2).sum()\n",
    "    S2,tc=least_squares(fun,[S2,tc0]).x\n",
    "    plt.plot(t,S2+(1-S2)*np.exp(-t/tc),color='grey',linestyle=':')\n",
    "plt.xlim([0,50*tc])\n",
    "plt.ylim([0,1])\n",
    "legend_list = test_list + [\"fit\"]\n",
    "plt.xlabel(\"Time [ns]\")\n",
    "plt.ylabel(\"Correlation function C(T) [a.u.]\")\n",
    "#plt.title(\"Correlation function of the backbone\")\n",
    "plt.legend(legend_list)\n",
    "plt.savefig(\"/home/mlehner/pyDR/out_figures/report/plot04.png\")"
   ]
  },
  {
   "cell_type": "code",
   "execution_count": null,
   "metadata": {},
   "outputs": [],
   "source": [
    "out['ct'].shape"
   ]
  },
  {
   "cell_type": "code",
   "execution_count": null,
   "metadata": {},
   "outputs": [],
   "source": [
    "42-6"
   ]
  },
  {
   "cell_type": "code",
   "execution_count": null,
   "metadata": {},
   "outputs": [],
   "source": [
    "ile_test_list = [x+\"_ile3\" for x in test_list]"
   ]
  },
  {
   "cell_type": "code",
   "execution_count": null,
   "metadata": {},
   "outputs": [],
   "source": [
    "ile_test_list.extend([x+\"_ile44\" for x in test_list])"
   ]
  },
  {
   "cell_type": "code",
   "execution_count": null,
   "metadata": {},
   "outputs": [],
   "source": [
    "ile_test_list"
   ]
  },
  {
   "cell_type": "code",
   "execution_count": null,
   "metadata": {},
   "outputs": [],
   "source": [
    "for out in data:\n",
    "        plt.semilogx(out['t'][:tf>>1],out['ct'][0:6].mean(0)[:tf>>1])\n",
    "for out in data:\n",
    "        plt.semilogx(out['t'][:tf>>1],out['ct'][30:36].mean(0)[:tf>>1], linestyle=':')\n",
    "plt.xlabel(\"Time [ns]\")\n",
    "plt.ylabel(\"Correlation function C(T) [a.u.]\")\n",
    "plt.title(\"Total Correlation Function\")\n",
    "plt.legend(ile_test_list)\n",
    "plt.savefig(\"/home/mlehner/pyDR/out_figures/report/plot_ile.png\")"
   ]
  },
  {
   "cell_type": "code",
   "execution_count": null,
   "metadata": {},
   "outputs": [],
   "source": [
    "res_lsq_list = []\n",
    "for i in range(4):\n",
    "    asdf = []\n",
    "    for out in data:\n",
    "        ct = out['ct_finF'][i]\n",
    "        S2=ct.mean(0)[tf>>2:tf>>1].mean()\n",
    "        b=np.argwhere(ct.mean(0)-S2<0)[0,0]\n",
    "        #tc0=np.max([.001,((ct.mean(0)[:b]-S2)/(1-S2)).sum()*.005])\n",
    "        tc0=t[np.argmin(np.abs((ct.mean(0)[:b]-S2)/(1-S2)-np.exp(-1)))]\n",
    "        fun=lambda x:(((x[0]+(1-x[0])*np.exp(-t[:b]/x[1]))-ct.mean(0)[:b])**2).sum()\n",
    "        res_lsq = least_squares(fun,[S2,tc0])\n",
    "        S2,tc=res_lsq.x\n",
    "        asdf.append([S2, tc])\n",
    "        print(S2, tc)\n",
    "    res_lsq_list.append(asdf)"
   ]
  },
  {
   "cell_type": "code",
   "execution_count": null,
   "metadata": {},
   "outputs": [],
   "source": [
    "for i in res_lsq_list[2]:\n",
    "   print(f\" & {i[0]:.5f} & {i[1]:.5f}\")"
   ]
  },
  {
   "cell_type": "code",
   "execution_count": null,
   "metadata": {},
   "outputs": [],
   "source": [
    "for i in res_lsq_list[1]:\n",
    "   print(f\" & {i[0]:.5f} & {i[1]:.5f}\")"
   ]
  },
  {
   "cell_type": "code",
   "execution_count": null,
   "metadata": {},
   "outputs": [],
   "source": [
    "res_lsq_matrix=np.array(res_lsq_list)"
   ]
  },
  {
   "cell_type": "code",
   "execution_count": null,
   "metadata": {},
   "outputs": [],
   "source": [
    "res_lsq_matrix"
   ]
  },
  {
   "cell_type": "code",
   "execution_count": null,
   "metadata": {},
   "outputs": [],
   "source": [
    "res_lsq_matrix[:,0]"
   ]
  },
  {
   "cell_type": "code",
   "execution_count": null,
   "metadata": {},
   "outputs": [],
   "source": [
    "test_0_res_lsq = res_lsq_matrix[:,0]"
   ]
  },
  {
   "cell_type": "code",
   "execution_count": null,
   "metadata": {},
   "outputs": [],
   "source": [
    "for i in range(4):\n",
    "    line = res_lsq_matrix[:,i]\n",
    "    print(f\"test_{i+1} & {line[0,1]:.5f} & {line[1,1]:.5f} & {line[2,1]:.5f} & {line[3,1]:.5f} \\\\\")"
   ]
  },
  {
   "cell_type": "code",
   "execution_count": null,
   "metadata": {},
   "outputs": [],
   "source": [
    "for i in range(4):\n",
    "    line = res_lsq_matrix[:,i]\n",
    "    print(f\"test_{i+1} & {line[0,0]:.5f} & {line[1,0]:.5f} & {line[2,0]:.5f} & {line[3,0]:.5f}\")"
   ]
  },
  {
   "cell_type": "code",
   "execution_count": null,
   "metadata": {},
   "outputs": [],
   "source": [
    "res_lsq_matrix[0,0]"
   ]
  },
  {
   "cell_type": "code",
   "execution_count": null,
   "metadata": {},
   "outputs": [],
   "source": [
    "line = res_lsq_matrix[:,0]\n",
    "for S2, tc in line:\n",
    "    t=np.linspace(0,0.1,100)\n",
    "    plt.plot(t,S2+(1-S2)*np.exp(-t/tc))\n",
    "plt.legend([\"0\",\"1\",\"2\",\"3\"])\n",
    "plt.show()"
   ]
  },
  {
   "cell_type": "code",
   "execution_count": null,
   "metadata": {},
   "outputs": [],
   "source": [
    "print(f\"# test & t_c(methyl)[ns] & t_c(\\chi2)[ns] & t_c(\\chi1)[ns] & t_c(backbone)[ns] \\\\\\\\ \\\\hline \")\n",
    "for i in range(4):\n",
    "    line = res_lsq_matrix[:,i]\n",
    "    s = 1000\n",
    "    print(f\"test_{i+1} & {s*line[1,1]:.2f} & {s*line[0,1]:.2f} & {s*line[2,1]:.2f} & {s*line[3,1]:.0f} \\\\\\\\\")\n",
    "print(\"\\n\\n\")\n",
    "print(f\"# test & S^2(methyl) & S^2(\\chi2) & S^2(\\chi1) & S^2(backbone) \\\\\\\\ \\\\hline\")\n",
    "for i in range(4):\n",
    "    line = res_lsq_matrix[:,i]\n",
    "    print(f\"test_{i+1} & {line[1,0]:.5f} & {line[0,0]:.5f} & {line[2,0]:.5f} & {line[3,0]:.5f} \\\\\\\\\")"
   ]
  },
  {
   "cell_type": "code",
   "execution_count": null,
   "metadata": {},
   "outputs": [],
   "source": []
  },
  {
   "cell_type": "code",
   "execution_count": null,
   "metadata": {},
   "outputs": [],
   "source": [
    "len(res_lsq_list)"
   ]
  },
  {
   "cell_type": "code",
   "execution_count": null,
   "metadata": {},
   "outputs": [],
   "source": [
    "res_lsq = res_lsq_list[0]"
   ]
  },
  {
   "cell_type": "code",
   "execution_count": null,
   "metadata": {},
   "outputs": [],
   "source": [
    "res_lsq"
   ]
  },
  {
   "cell_type": "code",
   "execution_count": null,
   "metadata": {},
   "outputs": [],
   "source": [
    "res_lsq_list"
   ]
  },
  {
   "cell_type": "code",
   "execution_count": null,
   "metadata": {},
   "outputs": [],
   "source": []
  }
 ],
 "metadata": {
  "kernelspec": {
   "display_name": "Python 3.7.12 ('pyDR')",
   "language": "python",
   "name": "python3"
  },
  "language_info": {
   "codemirror_mode": {
    "name": "ipython",
    "version": 3
   },
   "file_extension": ".py",
   "mimetype": "text/x-python",
   "name": "python",
   "nbconvert_exporter": "python",
   "pygments_lexer": "ipython3",
   "version": "3.7.12"
  },
  "orig_nbformat": 4,
  "vscode": {
   "interpreter": {
    "hash": "8d634ef06161820f30c50fe6b827a1b9626447960719c62f89f2b124de647201"
   }
  }
 },
 "nbformat": 4,
 "nbformat_minor": 2
}
