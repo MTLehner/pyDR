{
 "cells": [
  {
   "cell_type": "code",
   "execution_count": 1,
   "metadata": {},
   "outputs": [],
   "source": [
    "import numpy as np\n",
    "import pyDR as DR\n",
    "from pyDR.Project import Project\n",
    "import matplotlib.pyplot as plt\n",
    "from scipy.optimize import least_squares\n",
    "import pickle"
   ]
  },
  {
   "cell_type": "code",
   "execution_count": 2,
   "metadata": {},
   "outputs": [],
   "source": [
    "ile_resn = [137, 142, 143, 208, 269]\n",
    "#test_list = [\"test_001\", \"test_002\"]#, \"test_003\", \"test_004\", \"test_005\", \"test_006\", \"test_007\",\"test_008\", \"test_009\", \"test_010\", \"test_011\"]\n",
    "test_list = [\"test_002\"]"
   ]
  },
  {
   "cell_type": "code",
   "execution_count": 3,
   "metadata": {},
   "outputs": [],
   "source": [
    "#dir = \"/localhome/mlehner/nmr/1CM8/\"\n",
    "dir = \"../../1cm8_data/\""
   ]
  },
  {
   "cell_type": "code",
   "execution_count": 4,
   "metadata": {},
   "outputs": [],
   "source": [
    "def get_frame_analysis(test):\n",
    "    tf=None\n",
    "    #tf=1000\n",
    "    molsys=DR.MolSys('../../1cm8_data/frame.pdb', f'../../1cm8_data/{test}/traj_4us_PBC_fit.xtc',tf=tf)\n",
    "    select=DR.MolSelect(molsys)\n",
    "\n",
    "    frames=list()\n",
    "    frames.append({'Type':'methylCC','Nuc':'ivl', 'resids':ile_resn,'sigma':0})\n",
    "    frames.append({'Type':'side_chain_chi','Nuc':'ivl', 'resids':ile_resn,'n_bonds':1,'sigma':0})\n",
    "    frames.append({'Type':'side_chain_chi','Nuc':'ivl', 'resids':ile_resn,'n_bonds':2,'sigma':0})\n",
    "\n",
    "    \"Frames with post-process smoothing\"\n",
    "    frames.append({'Type':'hops_3site','Nuc':'ivl', 'resids':ile_resn,'sigma':5})\n",
    "    frames.append({'Type':'methylCC','Nuc':'ivl', 'resids':ile_resn,'sigma':5})\n",
    "    frames.append({'Type':'chi_hop','Nuc':'ivl', 'resids':ile_resn,'n_bonds':1,'sigma':50})\n",
    "    frames.append({'Type':'side_chain_chi','Nuc':'ivl', 'resids':ile_resn,'n_bonds':1,'sigma':50})\n",
    "    frames.append({'Type':'chi_hop','Nuc':'ivl', 'resids':ile_resn,'n_bonds':2,'sigma':50})\n",
    "    frames.append({'Type':'side_chain_chi','Nuc':'ivl', 'resids':ile_resn,'n_bonds':2,'sigma':50})\n",
    "\n",
    "    select.select_bond(Nuc='ivl', resids=ile_resn)\n",
    "    fr_obj=DR.Frames.FrameObj(select)\n",
    "    fr_obj.tensor_frame(sel1=1,sel2=2)\n",
    "    for f in frames:fr_obj.new_frame(**f)\n",
    "    fr_obj.load_frames(n=-1)\n",
    "    fr_obj.post_process()\n",
    "\n",
    "    tf = molsys._traj.tf\n",
    "    print(f\"tf: {tf}\")\n",
    "\n",
    "    include=np.zeros([3,9],dtype=bool)\n",
    "    include[0][:3]=True  \n",
    "    include[1][[4,6,8]]=True\n",
    "    include[2][3:]=True\n",
    "    \n",
    "    t=np.arange(tf>>1)*.005\n",
    "    data=fr_obj.frames2data(mode='full')\n",
    "    proj=Project('./out_figures/'+test+'.nosync',create=True)\n",
    "    for d in data:proj.append_data(d)\n",
    "    proj[0].detect.r_no_opt(10)\n",
    "    proj.fit(bounds=False)\n",
    "    proj['no_opt'][0].detect.r_auto(5)\n",
    "    proj['no_opt'].fit()\n",
    "    return [fr_obj.frames2ct(include=x, mode='full') for x in include]\n",
    "    "
   ]
  },
  {
   "cell_type": "code",
   "execution_count": 5,
   "metadata": {},
   "outputs": [
    {
     "name": "stdout",
     "output_type": "stream",
     "text": [
      "test_002\n",
      "Loading Ref. Frames: |██████████████████████████████████████████████████| 100.0% Complete\n",
      "Completed\n",
      "Applying default post processing (only active for frames that define their own post processing)\n",
      "tf: 241970\n",
      "Fitted 12 data objects\n",
      "Fitted 12 data objects\n"
     ]
    }
   ],
   "source": [
    "for test in test_list:\n",
    "    try:\n",
    "        print(f\"{test}\", flush=True)\n",
    "        out = get_frame_analysis(test)\n",
    "        pickle.dump(out, open(\"./out_figures/ile/\"+test+\"/out4.p\", 'wb'))\n",
    "    except Exception as e:\n",
    "        print(e)\n",
    "        pass"
   ]
  },
  {
   "cell_type": "code",
   "execution_count": null,
   "metadata": {},
   "outputs": [],
   "source": [
    "out1=pickle.load(open(\"./out_figures/ile/\"+test_list[0]+\"/out4.p\", 'rb'))"
   ]
  },
  {
   "cell_type": "code",
   "execution_count": null,
   "metadata": {},
   "outputs": [],
   "source": [
    "out1[0][\"ct_prod\"].shape"
   ]
  },
  {
   "cell_type": "code",
   "execution_count": null,
   "metadata": {},
   "outputs": [],
   "source": []
  }
 ],
 "metadata": {
  "kernelspec": {
   "display_name": "Python 3.7.3 ('pyDR')",
   "language": "python",
   "name": "python3"
  },
  "language_info": {
   "codemirror_mode": {
    "name": "ipython",
    "version": 3
   },
   "file_extension": ".py",
   "mimetype": "text/x-python",
   "name": "python",
   "nbconvert_exporter": "python",
   "pygments_lexer": "ipython3",
   "version": "3.7.3"
  },
  "orig_nbformat": 4,
  "vscode": {
   "interpreter": {
    "hash": "73f51e723cb625244947aefa9619bbd2d905836cbbdf692d5cc07333ae33e8b6"
   }
  }
 },
 "nbformat": 4,
 "nbformat_minor": 2
}
