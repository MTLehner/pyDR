{
 "cells": [
  {
   "cell_type": "markdown",
   "id": "f96b8aaf",
   "metadata": {},
   "source": []
  },
  {
   "cell_type": "code",
   "execution_count": 2,
   "id": "67b92e4f",
   "metadata": {},
   "outputs": [],
   "source": [
    "#!git clone https://github.com/alsinmr/pyDR.git\n",
    "import sys\n",
    "sys.path.append('/Users/albertsmith/Documents/GitHub')\n",
    "import pyDR"
   ]
  },
  {
   "cell_type": "code",
   "execution_count": null,
   "id": "7a7b01d0",
   "metadata": {},
   "outputs": [],
   "source": [
    "%matplotlib"
   ]
  }
 ],
 "metadata": {
  "kernelspec": {
   "display_name": "Python 3",
   "language": "python",
   "name": "python3"
  },
  "language_info": {
   "codemirror_mode": {
    "name": "ipython",
    "version": 3
   },
   "file_extension": ".py",
   "mimetype": "text/x-python",
   "name": "python",
   "nbconvert_exporter": "python",
   "pygments_lexer": "ipython3",
   "version": "3.7.3"
  }
 },
 "nbformat": 4,
 "nbformat_minor": 5
}
